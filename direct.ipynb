{
 "metadata": {
  "language_info": {
   "codemirror_mode": {
    "name": "ipython",
    "version": 3
   },
   "file_extension": ".py",
   "mimetype": "text/x-python",
   "name": "python",
   "nbconvert_exporter": "python",
   "pygments_lexer": "ipython3",
   "version": "3.6.9-final"
  },
  "orig_nbformat": 2,
  "kernelspec": {
   "name": "python3",
   "display_name": "Python 3"
  }
 },
 "nbformat": 4,
 "nbformat_minor": 2,
 "cells": [
  {
   "cell_type": "code",
   "execution_count": 1,
   "metadata": {
    "tags": []
   },
   "outputs": [
    {
     "output_type": "stream",
     "name": "stdout",
     "text": [
      "REDUCE\n",
      "stock part: [0.03333333 0.03333333 0.03333333 0.05761248 0.03333333 0.03333333\n",
      " 0.03333333 0.03333333 0.03333333 0.03333333 0.03333333 0.03333333\n",
      " 0.03333333 0.03333333 0.03333333 0.03333333 0.03333333 0.03333333\n",
      " 0.03120389 0.03333333 0.03779596 0.03333333 0.03333333 0.03333333\n",
      " 0.03333333 0.03333333 0.03333333 0.03333333 0.03333333 0.03333333]\n",
      "COMPUTE BEST\n",
      "computed ids: [2023 2035 2024 2034 1958 1591 1918 1595 1995 1571 2112 1793 1445 2064\n",
      " 1965 1990 1912 1862]\n",
      "assets ids tested:  [2023 2035 2024 2034 1958 1591 1918 1595 1995 1571 2112 1793 1445 2064\n",
      " 1965 1990 1912 1862]\n",
      "stocks are numbers:  [0, 1, 2, 3, 4, 5, 6, 7, 8, 9, 10, 11, 12, 13, 14, 15, 16, 17]\n",
      "stock part %: 100.0\n",
      "%nav between 0.01 and 0.1: True\n",
      "assets between 15 and 40: True\n",
      "final weight:  [0.05555556 0.05555556 0.05555556 0.05555556 0.05555556 0.05555556\n",
      " 0.05555556 0.05555556 0.05555556 0.05555556 0.05555556 0.05555556\n",
      " 0.05555556 0.05555556 0.05555556 0.05555556 0.05555556 0.05555556]\n"
     ]
    }
   ],
   "source": [
    "from optimizers.best import get_best_weigth, rate_portfolio\n",
    "res = get_best_weigth(\"scipy\", False)"
   ]
  },
  {
   "cell_type": "code",
   "execution_count": 2,
   "metadata": {},
   "outputs": [
    {
     "output_type": "stream",
     "name": "stdout",
     "text": [
      "//////////////////////////////////////\nSharp of portfolio = 3.113491136588\nConstraint pass = True\n//////////////////////////////////////\nConstraint weight = [0.05555555 0.05555555 0.0555556  0.05555555 0.05555557 0.05555556\n 0.05555555 0.05555548 0.05555555 0.05555558 0.05555557 0.05555556\n 0.05555559 0.05555554 0.05555549 0.05555557 0.05555556 0.05555556]\n"
     ]
    }
   ],
   "source": [
    "rate_portfolio(res)"
   ]
  },
  {
   "cell_type": "code",
   "execution_count": 7,
   "metadata": {},
   "outputs": [
    {
     "output_type": "execute_result",
     "data": {
      "text/plain": [
       "    asset_id   quantities\n",
       "0       2023  132275132.0\n",
       "1       2035   63492063.0\n",
       "2       2024     555556.0\n",
       "3       2034    6918500.0\n",
       "4       1958     380648.0\n",
       "5       1591     379997.0\n",
       "6       1918   11999040.0\n",
       "7       1595     330196.0\n",
       "8       1995    1001001.0\n",
       "9       1571     664461.0\n",
       "10      2112    1638011.0\n",
       "11      1793    3144061.0\n",
       "12      1445     624571.0\n",
       "13      2064     766446.0\n",
       "14      1965     413052.0\n",
       "15      1990    1291990.0\n",
       "16      1912    2827255.0\n",
       "17      1862    1792115.0"
      ],
      "text/html": "<div>\n<style scoped>\n    .dataframe tbody tr th:only-of-type {\n        vertical-align: middle;\n    }\n\n    .dataframe tbody tr th {\n        vertical-align: top;\n    }\n\n    .dataframe thead th {\n        text-align: right;\n    }\n</style>\n<table border=\"1\" class=\"dataframe\">\n  <thead>\n    <tr style=\"text-align: right;\">\n      <th></th>\n      <th>asset_id</th>\n      <th>quantities</th>\n    </tr>\n  </thead>\n  <tbody>\n    <tr>\n      <th>0</th>\n      <td>2023</td>\n      <td>132275132.0</td>\n    </tr>\n    <tr>\n      <th>1</th>\n      <td>2035</td>\n      <td>63492063.0</td>\n    </tr>\n    <tr>\n      <th>2</th>\n      <td>2024</td>\n      <td>555556.0</td>\n    </tr>\n    <tr>\n      <th>3</th>\n      <td>2034</td>\n      <td>6918500.0</td>\n    </tr>\n    <tr>\n      <th>4</th>\n      <td>1958</td>\n      <td>380648.0</td>\n    </tr>\n    <tr>\n      <th>5</th>\n      <td>1591</td>\n      <td>379997.0</td>\n    </tr>\n    <tr>\n      <th>6</th>\n      <td>1918</td>\n      <td>11999040.0</td>\n    </tr>\n    <tr>\n      <th>7</th>\n      <td>1595</td>\n      <td>330196.0</td>\n    </tr>\n    <tr>\n      <th>8</th>\n      <td>1995</td>\n      <td>1001001.0</td>\n    </tr>\n    <tr>\n      <th>9</th>\n      <td>1571</td>\n      <td>664461.0</td>\n    </tr>\n    <tr>\n      <th>10</th>\n      <td>2112</td>\n      <td>1638011.0</td>\n    </tr>\n    <tr>\n      <th>11</th>\n      <td>1793</td>\n      <td>3144061.0</td>\n    </tr>\n    <tr>\n      <th>12</th>\n      <td>1445</td>\n      <td>624571.0</td>\n    </tr>\n    <tr>\n      <th>13</th>\n      <td>2064</td>\n      <td>766446.0</td>\n    </tr>\n    <tr>\n      <th>14</th>\n      <td>1965</td>\n      <td>413052.0</td>\n    </tr>\n    <tr>\n      <th>15</th>\n      <td>1990</td>\n      <td>1291990.0</td>\n    </tr>\n    <tr>\n      <th>16</th>\n      <td>1912</td>\n      <td>2827255.0</td>\n    </tr>\n    <tr>\n      <th>17</th>\n      <td>1862</td>\n      <td>1792115.0</td>\n    </tr>\n  </tbody>\n</table>\n</div>"
     },
     "metadata": {},
     "execution_count": 7
    }
   ],
   "source": [
    "res"
   ]
  },
  {
   "cell_type": "code",
   "execution_count": 4,
   "metadata": {
    "tags": []
   },
   "outputs": [],
   "source": [
    "# from optimizers.best import get_best_weigth, rate_portfolio\n",
    "# res = get_best_weigth(\"pso\", False)"
   ]
  },
  {
   "cell_type": "code",
   "execution_count": 5,
   "metadata": {},
   "outputs": [],
   "source": [
    "# rate_portfolio(res)"
   ]
  },
  {
   "cell_type": "code",
   "execution_count": 6,
   "metadata": {},
   "outputs": [],
   "source": [
    "# res"
   ]
  }
 ]
}