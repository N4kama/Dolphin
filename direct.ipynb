{
 "metadata": {
  "language_info": {
   "codemirror_mode": {
    "name": "ipython",
    "version": 3
   },
   "file_extension": ".py",
   "mimetype": "text/x-python",
   "name": "python",
   "nbconvert_exporter": "python",
   "pygments_lexer": "ipython3",
   "version": "3.6.9-final"
  },
  "orig_nbformat": 2,
  "kernelspec": {
   "name": "python3",
   "display_name": "Python 3"
  }
 },
 "nbformat": 4,
 "nbformat_minor": 2,
 "cells": [
  {
   "cell_type": "code",
   "execution_count": 1,
   "metadata": {
    "tags": []
   },
   "outputs": [],
   "source": [
    "from optimizers.best import get_best_weigth, rate_portfolio"
   ]
  },
  {
   "cell_type": "code",
   "execution_count": 2,
   "metadata": {
    "tags": []
   },
   "outputs": [
    {
     "output_type": "stream",
     "name": "stdout",
     "text": [
      "REDUCE\n",
      "COMPUTE BEST\n",
      "basic check: True\n"
     ]
    }
   ],
   "source": [
    "res = get_best_weigth(\"scipy\")\n"
   ]
  },
  {
   "cell_type": "code",
   "execution_count": 4,
   "metadata": {},
   "outputs": [
    {
     "output_type": "stream",
     "name": "stdout",
     "text": [
      "//////////////////////////////////////\n\u001b[34m\nSharp of portfolio = 3.129940739317\n\u001b[0m\n    asset_id   quantities       close       montant       nav  types\n0       2023  108225108.0    0.420000  4.545455e+07  0.045455  STOCK\n1       2024     454545.0  100.000000  4.545450e+07  0.045455  STOCK\n2       1958     311439.0  145.950000  4.545452e+07  0.045455  STOCK\n3       1445     511012.0   88.950000  4.545452e+07  0.045455  STOCK\n4       2064     627092.0   72.484610  4.545452e+07  0.045455  STOCK\n5       2035   51948052.0    0.875000  4.545455e+07  0.045455  STOCK\n6       1965     337952.0  134.500000  4.545454e+07  0.045455  STOCK\n7       1990    1057082.0   43.000000  4.545453e+07  0.045455  STOCK\n8       1591     310907.0  146.200000  4.545460e+07  0.045455  STOCK\n9       1912    2313208.0   19.650000  4.545454e+07  0.045455  STOCK\n10      1862    1466276.0   31.000000  4.545456e+07  0.045455  STOCK\n11      2091     674635.0   67.376488  4.545454e+07  0.045455  STOCK\n12      1931     432900.0  105.000000  4.545450e+07  0.045455  STOCK\n13      1956    4652461.0    9.770000  4.545454e+07  0.045455  STOCK\n14      2066     650299.0   69.897944  4.545456e+07  0.045455  STOCK\n15      1872     777134.0   58.490000  4.545457e+07  0.045455  STOCK\n16      1910     733138.0   62.000000  4.545456e+07  0.045455  STOCK\n17      2062     527135.0   86.229443  4.545456e+07  0.045455  STOCK\n18      2034    5660591.0    8.030000  4.545455e+07  0.045455  STOCK\n19      1877    5174109.0    8.785000  4.545455e+07  0.045455  STOCK\n20      1882    3949135.0   11.510000  4.545454e+07  0.045455  STOCK\n21      1971     797448.0   57.000000  4.545454e+07  0.045455  STOCK\n---------------------\nPortfolio total price: 999999914.5833355\nPortfolio stock price: 999999914.5833355\n---------------------\n\n\u001b[32m\nStock percent        : 100.0\n\u001b[32m\n%Nav check           : [ True  True  True  True  True  True  True  True  True  True  True  True\n  True  True  True  True  True  True  True  True  True  True]\n\u001b[32m\n[15;40] assets check : 22\n\u001b[0m\n\u001b[32m\nConstraint pass: True\n\u001b[0m\n//////////////////////////////////////\n"
     ]
    },
    {
     "output_type": "execute_result",
     "data": {
      "text/plain": [
       "(3.129940739317, True)"
      ]
     },
     "metadata": {},
     "execution_count": 4
    }
   ],
   "source": [
    "rate_portfolio(res)"
   ]
  }
 ]
}