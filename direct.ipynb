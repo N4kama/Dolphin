{
 "metadata": {
  "language_info": {
   "codemirror_mode": {
    "name": "ipython",
    "version": 3
   },
   "file_extension": ".py",
   "mimetype": "text/x-python",
   "name": "python",
   "nbconvert_exporter": "python",
   "pygments_lexer": "ipython3",
   "version": 3
  },
  "orig_nbformat": 2
 },
 "nbformat": 4,
 "nbformat_minor": 2,
 "cells": [
  {
   "cell_type": "code",
   "execution_count": null,
   "metadata": {},
   "outputs": [],
   "source": [
    "from optimizers.best import get_best_weigth\n",
    "res = get_best_weigth(\"scipy\", False)\n",
    "portefolio = get_epita_portfolio()\n",
    "put_portfolio(1823, portefolio, df)\n",
    "post_operations([12], [1823], start_period,end_period).values[0, 0]\n",
    "print(\"Real sharp of portfolio =\", post_operations([12], [1823], start_period, end_period).values[0, 0])\n",
    "print(check_constraints_portfolio(df))"
   ]
  }
 ]
}