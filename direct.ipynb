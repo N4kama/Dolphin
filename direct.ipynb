{
 "metadata": {
  "language_info": {
   "codemirror_mode": {
    "name": "ipython",
    "version": 3
   },
   "file_extension": ".py",
   "mimetype": "text/x-python",
   "name": "python",
   "nbconvert_exporter": "python",
   "pygments_lexer": "ipython3",
   "version": "3.6.9-final"
  },
  "orig_nbformat": 2,
  "kernelspec": {
   "name": "python3",
   "display_name": "Python 3"
  }
 },
 "nbformat": 4,
 "nbformat_minor": 2,
 "cells": [
  {
   "cell_type": "code",
   "execution_count": 1,
   "metadata": {
    "tags": []
   },
   "outputs": [
    {
     "output_type": "stream",
     "name": "stdout",
     "text": [
      "REDUCE\n",
      "stock part: [0.03333333 0.03333333 0.03333333 0.05761248 0.03333333 0.03333333\n",
      " 0.03333333 0.03333333 0.03333333 0.03333333 0.03333333 0.03333333\n",
      " 0.03333333 0.03333333 0.03333333 0.03333333 0.03333333 0.03333333\n",
      " 0.03120389 0.03333333 0.03779596 0.03333333 0.03333333 0.03333333\n",
      " 0.03333333 0.03333333 0.03333333 0.03333333 0.03333333 0.03333333]\n",
      "COMPUTE BEST\n",
      "computed ids: [2023 2035 2024 2034 1958 1591 1918 1595 1995 1571 2112 1793 1445 2064\n",
      " 1965 1990 1912 1862]\n",
      "assets ids tested:  [2023 2035 2024 2034 1958 1591 1918 1595 1995 1571 2112 1793 1445 2064\n",
      " 1965 1990 1912 1862]\n",
      "stocks are numbers:  [0, 1, 2, 3, 4, 5, 6, 7, 8, 9, 10, 11, 12, 13, 14, 15, 16, 17]\n",
      "stock part %: 100.0\n",
      "%nav between 0.01 and 0.1: True\n",
      "assets between 15 and 40: True\n",
      "final weight:  [0.012      0.012      0.0852835  0.09443505 0.05555556 0.04658967\n",
      " 0.098      0.05335363 0.04642414 0.04589391 0.08947535 0.05248584\n",
      " 0.05335363 0.08947535 0.05335363 0.04642414 0.0697901  0.0717043 ]\n"
     ]
    }
   ],
   "source": [
    "from optimizers.best import get_best_weigth, rate_portfolio\n",
    "res = get_best_weigth(\"scipy\", False)"
   ]
  },
  {
   "cell_type": "code",
   "execution_count": 2,
   "metadata": {},
   "outputs": [
    {
     "output_type": "stream",
     "name": "stdout",
     "text": [
      "Sharp of portfolio = 2.947922826452\nConstraint pass = True\nConstraint weight = [0.01115659 0.01115659 0.07928939 0.08779773 0.05165088 0.04331517\n 0.09111212 0.04960366 0.04316124 0.04266831 0.08318664 0.0487969\n 0.0496037  0.08318664 0.04960366 0.04316124 0.06488494 0.0666646 ]\n"
     ]
    }
   ],
   "source": [
    "rate_portfolio(res)"
   ]
  },
  {
   "cell_type": "code",
   "execution_count": 3,
   "metadata": {},
   "outputs": [
    {
     "output_type": "stream",
     "name": "stdout",
     "text": [
      "Sharp of portfolio = 2.947922826452\nConstraint pass = True\nConstraint weight = [0.01115659 0.01115659 0.07928939 0.08779773 0.05165088 0.04331517\n 0.09111212 0.04960366 0.04316124 0.04266831 0.08318664 0.0487969\n 0.0496037  0.08318664 0.04960366 0.04316124 0.06488494 0.0666646 ]\n"
     ]
    }
   ],
   "source": [
    "rate_portfolio(res)"
   ]
  },
  {
   "cell_type": "code",
   "execution_count": 4,
   "metadata": {},
   "outputs": [
    {
     "output_type": "execute_result",
     "data": {
      "text/plain": [
       "    asset_id  quantities\n",
       "0       2023  28571429.0\n",
       "1       2035  13714286.0\n",
       "2       2024    852835.0\n",
       "3       2034  11760280.0\n",
       "4       1958    380648.0\n",
       "5       1591    318671.0\n",
       "6       1918  21166307.0\n",
       "7       1595    317109.0\n",
       "8       1995    836471.0\n",
       "9       1571    548905.0\n",
       "10      2112   2638109.0\n",
       "11      1793   2970336.0\n",
       "12      1445    599816.0\n",
       "13      2064   1234405.0\n",
       "14      1965    396681.0\n",
       "15      1990   1079631.0\n",
       "16      1912   3551659.0\n",
       "17      1862   2313042.0"
      ],
      "text/html": "<div>\n<style scoped>\n    .dataframe tbody tr th:only-of-type {\n        vertical-align: middle;\n    }\n\n    .dataframe tbody tr th {\n        vertical-align: top;\n    }\n\n    .dataframe thead th {\n        text-align: right;\n    }\n</style>\n<table border=\"1\" class=\"dataframe\">\n  <thead>\n    <tr style=\"text-align: right;\">\n      <th></th>\n      <th>asset_id</th>\n      <th>quantities</th>\n    </tr>\n  </thead>\n  <tbody>\n    <tr>\n      <th>0</th>\n      <td>2023</td>\n      <td>28571429.0</td>\n    </tr>\n    <tr>\n      <th>1</th>\n      <td>2035</td>\n      <td>13714286.0</td>\n    </tr>\n    <tr>\n      <th>2</th>\n      <td>2024</td>\n      <td>852835.0</td>\n    </tr>\n    <tr>\n      <th>3</th>\n      <td>2034</td>\n      <td>11760280.0</td>\n    </tr>\n    <tr>\n      <th>4</th>\n      <td>1958</td>\n      <td>380648.0</td>\n    </tr>\n    <tr>\n      <th>5</th>\n      <td>1591</td>\n      <td>318671.0</td>\n    </tr>\n    <tr>\n      <th>6</th>\n      <td>1918</td>\n      <td>21166307.0</td>\n    </tr>\n    <tr>\n      <th>7</th>\n      <td>1595</td>\n      <td>317109.0</td>\n    </tr>\n    <tr>\n      <th>8</th>\n      <td>1995</td>\n      <td>836471.0</td>\n    </tr>\n    <tr>\n      <th>9</th>\n      <td>1571</td>\n      <td>548905.0</td>\n    </tr>\n    <tr>\n      <th>10</th>\n      <td>2112</td>\n      <td>2638109.0</td>\n    </tr>\n    <tr>\n      <th>11</th>\n      <td>1793</td>\n      <td>2970336.0</td>\n    </tr>\n    <tr>\n      <th>12</th>\n      <td>1445</td>\n      <td>599816.0</td>\n    </tr>\n    <tr>\n      <th>13</th>\n      <td>2064</td>\n      <td>1234405.0</td>\n    </tr>\n    <tr>\n      <th>14</th>\n      <td>1965</td>\n      <td>396681.0</td>\n    </tr>\n    <tr>\n      <th>15</th>\n      <td>1990</td>\n      <td>1079631.0</td>\n    </tr>\n    <tr>\n      <th>16</th>\n      <td>1912</td>\n      <td>3551659.0</td>\n    </tr>\n    <tr>\n      <th>17</th>\n      <td>1862</td>\n      <td>2313042.0</td>\n    </tr>\n  </tbody>\n</table>\n</div>"
     },
     "metadata": {},
     "execution_count": 4
    }
   ],
   "source": [
    "res"
   ]
  },
  {
   "cell_type": "code",
   "execution_count": null,
   "metadata": {},
   "outputs": [],
   "source": []
  }
 ]
}